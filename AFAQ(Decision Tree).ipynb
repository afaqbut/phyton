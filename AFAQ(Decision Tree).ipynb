{
 "cells": [
  {
   "cell_type": "code",
   "execution_count": 20,
   "id": "8b1d146c",
   "metadata": {},
   "outputs": [],
   "source": [
    "import numpy as np"
   ]
  },
  {
   "cell_type": "code",
   "execution_count": 21,
   "id": "0b0d94d4",
   "metadata": {},
   "outputs": [],
   "source": [
    "import matplotlib.pyplot as plt"
   ]
  },
  {
   "cell_type": "code",
   "execution_count": 22,
   "id": "3f6106e1",
   "metadata": {},
   "outputs": [],
   "source": [
    "import pandas as pd"
   ]
  },
  {
   "cell_type": "code",
   "execution_count": 23,
   "id": "ffa0326d",
   "metadata": {},
   "outputs": [
    {
     "data": {
      "text/plain": [
       "array([[170.688, 76.0, 'Male'],\n",
       "       [165.0, 70.0, 'Male'],\n",
       "       [171.0, 80.0, 'Male'],\n",
       "       [173.0, 102.0, 'Male'],\n",
       "       [164.0, 67.0, 'Male'],\n",
       "       [174.0, 46.0, 'Female'],\n",
       "       [151.0, 64.3, 'Female'],\n",
       "       [176.5, 98.0, 'Male'],\n",
       "       [181.0, 87.5, 'Male'],\n",
       "       [184.5, 80.0, 'Male'],\n",
       "       [163.5, 65.0, 'Male'],\n",
       "       [176.0, 78.0, 'Male'],\n",
       "       [178.0, 62.0, 'Male'],\n",
       "       [168.0, 74.0, 'Male'],\n",
       "       [165.0, 102.0, 'Male'],\n",
       "       [174.0, 78.0, 'Male'],\n",
       "       [162.0, 93.0, 'Male'],\n",
       "       [176.5, 68.0, 'Male'],\n",
       "       [5.6, 71.5, 'Male'],\n",
       "       [185.9, 135.0, 'Male'],\n",
       "       [183.0, 82.0, 'Male'],\n",
       "       [165.0, 70.0, 'Female'],\n",
       "       [169.0, 60.0, 'Male'],\n",
       "       [171.0, 84.5, 'Male'],\n",
       "       [154.5, 65.0, 'Female'],\n",
       "       [178.0, 70.0, 'Male'],\n",
       "       [171.0, 59.0, 'Male'],\n",
       "       [165.0, 78.0, 'Male'],\n",
       "       [173.0, 68.0, 'Male'],\n",
       "       [161.544, 62.0, 'Female'],\n",
       "       [155.0, 58.0, 'Female'],\n",
       "       [173.7, 102.3, 'Male'],\n",
       "       [162.5, 64.0, 'Male'],\n",
       "       [164.0, 50.0, 'Male'],\n",
       "       [164.0, 75.0, 'Male'],\n",
       "       [170.0, 77.0, 'Male'],\n",
       "       [177.8, 82.72, 'Male'],\n",
       "       [177.0, 93.0, 'Male'],\n",
       "       [164.5, 55.0, 'Male'],\n",
       "       [155.0, 50.0, 'Male'],\n",
       "       [165.0, 75.0, 'Female'],\n",
       "       [176.0, 64.0, 'Male'],\n",
       "       [186.0, 85.0, 'Male'],\n",
       "       [155.4, 65.0, 'Male'],\n",
       "       [178.5, 84.0, 'Male'],\n",
       "       [155.7, 85.0, 'Male'],\n",
       "       [165.0, 53.0, 'Male'],\n",
       "       [158.5, 90.0, 'Female'],\n",
       "       [5.1, 79.0, 'Male'],\n",
       "       [170.0, 68.0, 'Male'],\n",
       "       [182.0, 85.0, 'Male'],\n",
       "       [182.0, 79.0, 'Male'],\n",
       "       [176.7, 50.9, 'Female'],\n",
       "       [167.6, 68.5, 'Male'],\n",
       "       [172.72, 130.0, 'Male'],\n",
       "       [180.0, 63.0, 'Male'],\n",
       "       [172.0, 93.0, 'Male'],\n",
       "       [170.68, 59.0, 'Male'],\n",
       "       [5.11, 76.0, 'Male'],\n",
       "       [175.0, 76.0, 'Male'],\n",
       "       [5.6, 60.0, 'Male'],\n",
       "       [181.0, 63.0, 'Male'],\n",
       "       [164.0, 60.0, 'Male'],\n",
       "       [173.0, 75.0, 'Male'],\n",
       "       [183.0, 70.0, 'Male'],\n",
       "       [185.0, 65.0, 'Male'],\n",
       "       [152.4, 70.0, 'Male'],\n",
       "       [154.0, 55.0, 'Female'],\n",
       "       [170.0, 65.0, 'Male'],\n",
       "       [13.7, 72.6, 'Male'],\n",
       "       [176.0, 55.0, 'Male'],\n",
       "       [170.0, 46.0, 'Female'],\n",
       "       [160.0, 62.0, 'Female'],\n",
       "       [173.3, 72.5, 'Male'],\n",
       "       [180.0, 55.5, 'Male'],\n",
       "       [179.0, 70.0, 'Male'],\n",
       "       [5.7, 86.0, 'Male'],\n",
       "       [182.88, 52.0, 'Male'],\n",
       "       [5.6, 43.0, 'Female'],\n",
       "       [155.48, 61.5, 'Male'],\n",
       "       [5.4, 76.0, 'Male'],\n",
       "       [160.0, 60.0, 'Female'],\n",
       "       [182.88, 62.0, 'Male'],\n",
       "       [167.64, 77.0, 'Male'],\n",
       "       [167.6, 65.0, 'Female'],\n",
       "       [163.0, 50.0, 'Male'],\n",
       "       [6.0, 91.0, 'Male'],\n",
       "       [168.0, 75.0, 'Male'],\n",
       "       [173.75, 81.5, 'Male'],\n",
       "       [183.0, 88.0, 'Male'],\n",
       "       [170.0, 60.0, 'Male'],\n",
       "       [164.2, 86.0, 'Male'],\n",
       "       [173.0, 87.0, 'Male'],\n",
       "       [5.0, 70.0, 'Male'],\n",
       "       [176.0, 55.6, 'Male'],\n",
       "       [170.18, 86.0, 'Male'],\n",
       "       [173.0, 82.0, 'Male'],\n",
       "       [176.78, 70.0, 'Male'],\n",
       "       [165.0, 60.0, 'Female'],\n",
       "       [169.1, 50.0, 'Male'],\n",
       "       [181.0, 62.0, 'Male'],\n",
       "       [180.0, 71.0, 'Male'],\n",
       "       [175.0, 55.0, 'Male'],\n",
       "       [179.0, 78.0, 'Male'],\n",
       "       [164.0, 72.0, 'Male'],\n",
       "       [164.6, 75.0, 'Male'],\n",
       "       [59.0, 10.92, 'Male'],\n",
       "       [164.5, 57.0, 'Female'],\n",
       "       [150.5, 90.0, 'Male'],\n",
       "       [167.64, 65.0, 'Female'],\n",
       "       [179.832, 68.0, 'Male'],\n",
       "       [170.5, 74.0, 'Male'],\n",
       "       [170.6, 52.0, 'Male'],\n",
       "       [157.48, 51.0, 'Female'],\n",
       "       [181.0, 76.0, 'Male'],\n",
       "       [170.0, 82.0, 'Male'],\n",
       "       [170.5, 75.0, 'Male'],\n",
       "       [189.0, 86.0, 'Male'],\n",
       "       [178.0, 80.0, 'Male'],\n",
       "       [6.0, 51.0, 'Male'],\n",
       "       [180.0, 78.0, 'Male'],\n",
       "       [176.0, 54.0, 'Male'],\n",
       "       [179.5, 85.0, 'Male'],\n",
       "       [167.5, 58.0, 'Female'],\n",
       "       [71.0, 68.0, 'Male'],\n",
       "       [173.7, 97.0, 'Male'],\n",
       "       [167.64, 66.0, 'Male'],\n",
       "       [150.5, 47.0, 'Female'],\n",
       "       [179.0, 65.0, 'Male'],\n",
       "       [161.3, 60.0, 'Male'],\n",
       "       [166.0, 90.0, 'Male'],\n",
       "       [148.0, 40.0, 'Female'],\n",
       "       [167.5, 62.0, 'Male'],\n",
       "       [170.0, 65.0, 'Male'],\n",
       "       [167.64, 55.2, 'Male'],\n",
       "       [176.0, 71.0, 'Male'],\n",
       "       [170.68, 55.0, 'Male'],\n",
       "       [167.0, 54.0, 'Male'],\n",
       "       [173.0, 161.0, 'Male'],\n",
       "       [155.448, 102.0, 'Male'],\n",
       "       [182.8, 85.0, 'Male'],\n",
       "       [170.688, 59.0, 'Male'],\n",
       "       [191.5, 83.0, 'Male'],\n",
       "       [162.56, 46.0, 'Female'],\n",
       "       [14.4, 53.0, 'Female'],\n",
       "       [173.736, 62.0, 'Female'],\n",
       "       [168.0, 55.0, 'Male'],\n",
       "       [174.1, 76.0, 'Male'],\n",
       "       [164.6, 68.0, 'Male'],\n",
       "       [167.64, 57.0, 'Male'],\n",
       "       [180.33, 81.0, 'Male'],\n",
       "       [182.5, 80.0, 'Male'],\n",
       "       [5.7, 68.0, 'Male'],\n",
       "       [5.4, 63.4, 'Male'],\n",
       "       [177.8, 67.0, 'Male'],\n",
       "       [152.4, 50.0, 'Female'],\n",
       "       [15.2, 50.4, 'Male'],\n",
       "       [133.7, 58.0, 'Male'],\n",
       "       [181.0, 67.0, 'Male'],\n",
       "       [152.4, 75.0, 'Male'],\n",
       "       [179.5, 86.0, 'Male'],\n",
       "       [169.0, 86.0, 'Male'],\n",
       "       [158.5, 46.7, 'Female'],\n",
       "       [165.1, 45.0, 'Female'],\n",
       "       [154.5, 6.0, 'Female'],\n",
       "       [166.0, 62.0, 'Male'],\n",
       "       [188.0, 90.0, 'Male'],\n",
       "       [186.0, 101.0, 'Male'],\n",
       "       [70.0, 179.0, 'Male'],\n",
       "       [1.85, 88.0, 'Male'],\n",
       "       [179.0, 73.0, 'Male'],\n",
       "       [1.7, 50.0, 'Male'],\n",
       "       [172.0, 78.0, 'Male'],\n",
       "       [177.8, 84.0, 'Male'],\n",
       "       [180.0, 67.0, 'Male'],\n",
       "       [165.0, 71.0, 'Male'],\n",
       "       [173.0, 96.0, 'Male'],\n",
       "       [5.11, 70.0, 'Male'],\n",
       "       [178.0, 88.0, 'Male'],\n",
       "       [182.0, 84.0, 'Male'],\n",
       "       [164.59, 90.0, 'Male'],\n",
       "       [188.0, 88.0, 'Male'],\n",
       "       [179.8, 75.0, 'Male'],\n",
       "       [179.5, 86.0, 'Male'],\n",
       "       [175.0, 82.0, 'Male'],\n",
       "       [5.7, 68.0, 'Male'],\n",
       "       [157.0, 53.0, 'Male'],\n",
       "       [170.18, 73.8, 'Male'],\n",
       "       [570.0, 80.0, 'Male'],\n",
       "       [165.0, 74.0, 'Male'],\n",
       "       [5.7, 80.0, 'Male'],\n",
       "       [166.0, 54.0, 'Female'],\n",
       "       [145.5, 62.0, 'Male'],\n",
       "       [164.0, 64.0, 'Male'],\n",
       "       [175.0, 82.0, 'Male'],\n",
       "       [5.0, 80.0, 'Male'],\n",
       "       [175.5, 79.0, 'Male'],\n",
       "       [5.1, 40.0, 'Female'],\n",
       "       [173.0, 74.0, 'Male'],\n",
       "       [176.5, 98.0, 'Male'],\n",
       "       [172.0, 86.0, 'Male'],\n",
       "       [173.7, 57.0, 'Male'],\n",
       "       [5.1, 65.0, 'Female'],\n",
       "       [173.73, 75.0, 'Female'],\n",
       "       [165.0, 56.0, 'Female'],\n",
       "       [173.0, 78.0, 'Male'],\n",
       "       [170.0, 88.0, 'Male'],\n",
       "       [5.3, 62.0, 'Female'],\n",
       "       [173.5, 75.0, 'Male'],\n",
       "       [169.0, 85.0, 'Male'],\n",
       "       [175.5, 80.0, 'Male'],\n",
       "       [174.0, 74.0, 'Male'],\n",
       "       [170.77, 45.0, 'Female'],\n",
       "       [170.0, 74.0, 'Male'],\n",
       "       [182.88, 88.2, 'Male'],\n",
       "       [178.0, 77.0, 'Male'],\n",
       "       [162.0, 60.0, 'Female'],\n",
       "       [5.4, 68.0, 'Male'],\n",
       "       [172.0, 78.0, 'Male'],\n",
       "       [178.0, 85.0, 'Male'],\n",
       "       [13.408, 62.0, 'Female'],\n",
       "       [165.0, 70.0, 'Male'],\n",
       "       [167.4, 60.0, 'Male'],\n",
       "       [5.5, 74.0, 'Male'],\n",
       "       [50.0, 48.0, 'Female'],\n",
       "       [5.8, 53.0, 'Male'],\n",
       "       [171.0, 64.0, 'Male'],\n",
       "       [140.0, 26.0, 'Female'],\n",
       "       [164.5, 59.0, 'Female'],\n",
       "       [179.8, 96.0, 'Male'],\n",
       "       [176.0, 64.0, 'Male'],\n",
       "       [5.9, 68.0, 'Male'],\n",
       "       [163.5, 72.2, 'Male'],\n",
       "       [166.0, 66.0, 'Male'],\n",
       "       [6.0, 68.0, 'Male'],\n",
       "       [155.0, 48.0, 'Male'],\n",
       "       [5.3, 50.0, 'Female'],\n",
       "       [114.0, 60.0, 'Male'],\n",
       "       [6.0, 50.0, 'Male'],\n",
       "       [165.0, 63.0, 'Male'],\n",
       "       [160.0, 60.0, 'Male'],\n",
       "       [172.0, 70.0, 'Male'],\n",
       "       [178.0, 80.0, 'Male'],\n",
       "       [5.7, 65.0, 'Male'],\n",
       "       [157.0, 56.0, 'Female']], dtype=object)"
      ]
     },
     "execution_count": 23,
     "metadata": {},
     "output_type": "execute_result"
    }
   ],
   "source": [
    "df = pd.read_csv('ML-chat-reg.csv')\n",
    "x = df.iloc[:, 1:-1].values\n",
    "y = df.iloc[:, -1].values\n",
    "x"
   ]
  },
  {
   "cell_type": "code",
   "execution_count": 24,
   "id": "13df1678",
   "metadata": {},
   "outputs": [
    {
     "data": {
      "text/plain": [
       "array(['Biryani', 'Biryani', 'Biryani', 'Biryani', 'Biryani', 'Biryani',\n",
       "       'Biryani', 'Biryani', 'Biryani', 'Biryani', 'Pakora', 'Samosa',\n",
       "       'Samosa', 'Biryani', 'Biryani', 'Samosa', 'Biryani', 'Samosa',\n",
       "       'Biryani', 'Biryani', 'Samosa', 'Biryani', 'Pakora', 'Biryani',\n",
       "       'Biryani', 'Biryani', 'Pakora', 'Biryani', 'Biryani', 'Biryani',\n",
       "       'Samosa', 'Biryani', 'Samosa', 'Samosa', 'Samosa', 'Biryani',\n",
       "       'Samosa', 'Biryani', 'Samosa', 'Biryani', 'Biryani', 'Pakora',\n",
       "       'Biryani', 'Biryani', 'Pakora', 'Biryani', 'Samosa', 'Samosa',\n",
       "       'Pakora', 'Biryani', 'Samosa', 'Biryani', 'Biryani', 'Biryani',\n",
       "       'Samosa', 'Samosa', 'Biryani', 'Biryani', 'Biryani', 'Biryani',\n",
       "       'Biryani', 'Biryani', 'Biryani', 'Biryani', 'Biryani', 'Samosa',\n",
       "       'Biryani', 'Biryani', 'Biryani', 'Pakora', 'Pakora', 'Biryani',\n",
       "       'Biryani', 'Biryani', 'Biryani', 'Biryani', 'Biryani', 'Biryani',\n",
       "       'Samosa', 'Biryani', 'Biryani', 'Biryani', 'Biryani', 'Biryani',\n",
       "       'Biryani', 'Pakora', 'Biryani', 'Pakora', 'Biryani', 'Samosa',\n",
       "       'Samosa', 'Biryani', 'Biryani', 'Biryani', 'Biryani', 'Pakora',\n",
       "       'Biryani', 'Biryani', 'Pakora', 'Biryani', 'Pakora', 'Biryani',\n",
       "       'Biryani', 'Pakora', 'Biryani', 'Samosa', 'Biryani', 'Samosa',\n",
       "       'Biryani', 'Pakora', 'Biryani', 'Biryani', 'Biryani', 'Biryani',\n",
       "       'Pakora', 'Samosa', 'Biryani', 'Pakora', 'Pakora', 'Samosa',\n",
       "       'Biryani', 'Pakora', 'Biryani', 'Biryani', 'Pakora', 'Pakora',\n",
       "       'Biryani', 'Biryani', 'Biryani', 'Samosa', 'Biryani', 'Biryani',\n",
       "       'Biryani', 'Biryani', 'Biryani', 'Samosa', 'Biryani', 'Pakora',\n",
       "       'Samosa', 'Biryani', 'Samosa', 'Biryani', 'Biryani', 'Biryani',\n",
       "       'Biryani', 'Biryani', 'Biryani', 'Samosa', 'Samosa', 'Biryani',\n",
       "       'Biryani', 'Biryani', 'Biryani', 'Samosa', 'Biryani', 'Biryani',\n",
       "       'Biryani', 'Biryani', 'Biryani', 'Biryani', 'Pakora', 'Biryani',\n",
       "       'Biryani', 'Biryani', 'Biryani', 'Biryani', 'Biryani', 'Biryani',\n",
       "       'Biryani', 'Biryani', 'Samosa', 'Samosa', 'Biryani', 'Biryani',\n",
       "       'Biryani', 'Pakora', 'Biryani', 'Biryani', 'Samosa', 'Biryani',\n",
       "       'Biryani', 'Biryani', 'Pakora', 'Samosa', 'Biryani', 'Biryani',\n",
       "       'Pakora', 'Pakora', 'Biryani', 'Biryani', 'Biryani', 'Biryani',\n",
       "       'Biryani', 'Samosa', 'Pakora', 'Biryani', 'Samosa', 'Biryani',\n",
       "       'Biryani', 'Biryani', 'Biryani', 'Biryani', 'Samosa', 'Biryani',\n",
       "       'Biryani', 'Pakora', 'Samosa', 'Biryani', 'Biryani', 'Biryani',\n",
       "       'Samosa', 'Biryani', 'Pakora', 'Biryani', 'Samosa', 'Biryani',\n",
       "       'Biryani', 'Pakora', 'Biryani', 'Biryani', 'Biryani', 'Samosa',\n",
       "       'Biryani', 'Biryani', 'Biryani', 'Biryani', 'Samosa', 'Biryani',\n",
       "       'Biryani', 'Biryani', 'Samosa', 'Biryani', 'Pakora', 'Biryani',\n",
       "       'Pakora', 'Biryani', 'Biryani', 'Biryani', 'Samosa', 'Biryani',\n",
       "       'Pakora', 'Biryani', 'Biryani', 'Biryani', 'Samosa'], dtype=object)"
      ]
     },
     "execution_count": 24,
     "metadata": {},
     "output_type": "execute_result"
    }
   ],
   "source": [
    "y"
   ]
  },
  {
   "cell_type": "code",
   "execution_count": 25,
   "id": "8ce1d21a",
   "metadata": {},
   "outputs": [
    {
     "data": {
      "text/html": [
       "<div>\n",
       "<style scoped>\n",
       "    .dataframe tbody tr th:only-of-type {\n",
       "        vertical-align: middle;\n",
       "    }\n",
       "\n",
       "    .dataframe tbody tr th {\n",
       "        vertical-align: top;\n",
       "    }\n",
       "\n",
       "    .dataframe thead th {\n",
       "        text-align: right;\n",
       "    }\n",
       "</style>\n",
       "<table border=\"1\" class=\"dataframe\">\n",
       "  <thead>\n",
       "    <tr style=\"text-align: right;\">\n",
       "      <th></th>\n",
       "      <th>age</th>\n",
       "      <th>height</th>\n",
       "      <th>weight</th>\n",
       "      <th>gender</th>\n",
       "      <th>likeness</th>\n",
       "    </tr>\n",
       "  </thead>\n",
       "  <tbody>\n",
       "    <tr>\n",
       "      <th>0</th>\n",
       "      <td>27</td>\n",
       "      <td>170.688</td>\n",
       "      <td>76.0</td>\n",
       "      <td>Male</td>\n",
       "      <td>Biryani</td>\n",
       "    </tr>\n",
       "    <tr>\n",
       "      <th>1</th>\n",
       "      <td>41</td>\n",
       "      <td>165.000</td>\n",
       "      <td>70.0</td>\n",
       "      <td>Male</td>\n",
       "      <td>Biryani</td>\n",
       "    </tr>\n",
       "    <tr>\n",
       "      <th>2</th>\n",
       "      <td>29</td>\n",
       "      <td>171.000</td>\n",
       "      <td>80.0</td>\n",
       "      <td>Male</td>\n",
       "      <td>Biryani</td>\n",
       "    </tr>\n",
       "    <tr>\n",
       "      <th>3</th>\n",
       "      <td>27</td>\n",
       "      <td>173.000</td>\n",
       "      <td>102.0</td>\n",
       "      <td>Male</td>\n",
       "      <td>Biryani</td>\n",
       "    </tr>\n",
       "    <tr>\n",
       "      <th>4</th>\n",
       "      <td>29</td>\n",
       "      <td>164.000</td>\n",
       "      <td>67.0</td>\n",
       "      <td>Male</td>\n",
       "      <td>Biryani</td>\n",
       "    </tr>\n",
       "    <tr>\n",
       "      <th>...</th>\n",
       "      <td>...</td>\n",
       "      <td>...</td>\n",
       "      <td>...</td>\n",
       "      <td>...</td>\n",
       "      <td>...</td>\n",
       "    </tr>\n",
       "    <tr>\n",
       "      <th>240</th>\n",
       "      <td>31</td>\n",
       "      <td>160.000</td>\n",
       "      <td>60.0</td>\n",
       "      <td>Male</td>\n",
       "      <td>Pakora</td>\n",
       "    </tr>\n",
       "    <tr>\n",
       "      <th>241</th>\n",
       "      <td>26</td>\n",
       "      <td>172.000</td>\n",
       "      <td>70.0</td>\n",
       "      <td>Male</td>\n",
       "      <td>Biryani</td>\n",
       "    </tr>\n",
       "    <tr>\n",
       "      <th>242</th>\n",
       "      <td>40</td>\n",
       "      <td>178.000</td>\n",
       "      <td>80.0</td>\n",
       "      <td>Male</td>\n",
       "      <td>Biryani</td>\n",
       "    </tr>\n",
       "    <tr>\n",
       "      <th>243</th>\n",
       "      <td>25</td>\n",
       "      <td>5.700</td>\n",
       "      <td>65.0</td>\n",
       "      <td>Male</td>\n",
       "      <td>Biryani</td>\n",
       "    </tr>\n",
       "    <tr>\n",
       "      <th>244</th>\n",
       "      <td>33</td>\n",
       "      <td>157.000</td>\n",
       "      <td>56.0</td>\n",
       "      <td>Female</td>\n",
       "      <td>Samosa</td>\n",
       "    </tr>\n",
       "  </tbody>\n",
       "</table>\n",
       "<p>245 rows × 5 columns</p>\n",
       "</div>"
      ],
      "text/plain": [
       "     age   height  weight  gender likeness\n",
       "0     27  170.688    76.0    Male  Biryani\n",
       "1     41  165.000    70.0    Male  Biryani\n",
       "2     29  171.000    80.0    Male  Biryani\n",
       "3     27  173.000   102.0    Male  Biryani\n",
       "4     29  164.000    67.0    Male  Biryani\n",
       "..   ...      ...     ...     ...      ...\n",
       "240   31  160.000    60.0    Male   Pakora\n",
       "241   26  172.000    70.0    Male  Biryani\n",
       "242   40  178.000    80.0    Male  Biryani\n",
       "243   25    5.700    65.0    Male  Biryani\n",
       "244   33  157.000    56.0  Female   Samosa\n",
       "\n",
       "[245 rows x 5 columns]"
      ]
     },
     "execution_count": 25,
     "metadata": {},
     "output_type": "execute_result"
    }
   ],
   "source": [
    "df"
   ]
  },
  {
   "cell_type": "code",
   "execution_count": 26,
   "id": "31d2dcae",
   "metadata": {},
   "outputs": [
    {
     "data": {
      "text/plain": [
       "(245, 5)"
      ]
     },
     "execution_count": 26,
     "metadata": {},
     "output_type": "execute_result"
    }
   ],
   "source": [
    "df.shape"
   ]
  },
  {
   "cell_type": "markdown",
   "id": "4be3b434",
   "metadata": {},
   "source": [
    "## transform male in to integer (male to 1 and female to 0)"
   ]
  },
  {
   "cell_type": "code",
   "execution_count": 27,
   "id": "20786f09",
   "metadata": {},
   "outputs": [],
   "source": [
    "df['gender'] = df['gender'].replace('Male',1)\n",
    "df['gender'] = df['gender'].replace('Female',0)"
   ]
  },
  {
   "cell_type": "code",
   "execution_count": 28,
   "id": "82aaa775",
   "metadata": {},
   "outputs": [
    {
     "data": {
      "text/plain": [
       "(     age  height  weight  gender likeness\n",
       " 240   31   160.0    60.0       1   Pakora\n",
       " 241   26   172.0    70.0       1  Biryani\n",
       " 242   40   178.0    80.0       1  Biryani\n",
       " 243   25     5.7    65.0       1  Biryani\n",
       " 244   33   157.0    56.0       0   Samosa,\n",
       "    age   height  weight  gender likeness\n",
       " 0   27  170.688    76.0       1  Biryani\n",
       " 1   41  165.000    70.0       1  Biryani\n",
       " 2   29  171.000    80.0       1  Biryani\n",
       " 3   27  173.000   102.0       1  Biryani\n",
       " 4   29  164.000    67.0       1  Biryani)"
      ]
     },
     "execution_count": 28,
     "metadata": {},
     "output_type": "execute_result"
    }
   ],
   "source": [
    "df.tail(),df.head()"
   ]
  },
  {
   "cell_type": "code",
   "execution_count": 29,
   "id": "d87318c9",
   "metadata": {},
   "outputs": [],
   "source": [
    "x = df[['weight','gender']]\n",
    "y = df['likeness']"
   ]
  },
  {
   "cell_type": "code",
   "execution_count": 30,
   "id": "8432c3be",
   "metadata": {},
   "outputs": [
    {
     "data": {
      "text/plain": [
       "0    Biryani\n",
       "1    Biryani\n",
       "2    Biryani\n",
       "3    Biryani\n",
       "4    Biryani\n",
       "Name: likeness, dtype: object"
      ]
     },
     "execution_count": 30,
     "metadata": {},
     "output_type": "execute_result"
    }
   ],
   "source": [
    "y.head()"
   ]
  },
  {
   "cell_type": "markdown",
   "id": "02cb5857",
   "metadata": {},
   "source": [
    "## Apply ML"
   ]
  },
  {
   "cell_type": "code",
   "execution_count": 31,
   "id": "bfb88175",
   "metadata": {},
   "outputs": [
    {
     "name": "stderr",
     "output_type": "stream",
     "text": [
      "C:\\Users\\hp\\anaconda3\\lib\\site-packages\\sklearn\\base.py:450: UserWarning: X does not have valid feature names, but DecisionTreeClassifier was fitted with feature names\n",
      "  warnings.warn(\n"
     ]
    },
    {
     "data": {
      "text/plain": [
       "array(['Biryani'], dtype=object)"
      ]
     },
     "execution_count": 31,
     "metadata": {},
     "output_type": "execute_result"
    }
   ],
   "source": [
    "from sklearn.tree import DecisionTreeClassifier\n",
    "model = DecisionTreeClassifier().fit(x,y)\n",
    "\n",
    "# prediction\n",
    "\n",
    "model.predict([[23,0]])"
   ]
  },
  {
   "cell_type": "markdown",
   "id": "77946d54",
   "metadata": {},
   "source": [
    "## to cheak accuracy of the model"
   ]
  },
  {
   "cell_type": "code",
   "execution_count": 32,
   "id": "1acf22fb",
   "metadata": {},
   "outputs": [],
   "source": [
    "from sklearn.model_selection import train_test_split\n",
    "from sklearn.metrics import accuracy_score\n",
    "x_train,x_test,y_train,y_test = train_test_split(x,y,test_size=0.2,random_state=0)\n",
    "\n",
    "# create model\n",
    "\n",
    "model = DecisionTreeClassifier()"
   ]
  },
  {
   "cell_type": "markdown",
   "id": "52d8917f",
   "metadata": {},
   "source": [
    "## transform Likness in to integer ( to Pakora to 3 and baryani to 4)"
   ]
  },
  {
   "cell_type": "code",
   "execution_count": 33,
   "id": "55905c00",
   "metadata": {},
   "outputs": [],
   "source": [
    "df['likeness'] = df['likeness'].replace('Biryani','salad')\n",
    "df['likeness'] = df['likeness'].replace('Pakora',4)"
   ]
  },
  {
   "cell_type": "code",
   "execution_count": 34,
   "id": "5b5ac3a6",
   "metadata": {
    "scrolled": true
   },
   "outputs": [
    {
     "data": {
      "text/plain": [
       "(     age  height  weight  gender likeness\n",
       " 240   31   160.0    60.0       1        4\n",
       " 241   26   172.0    70.0       1    salad\n",
       " 242   40   178.0    80.0       1    salad\n",
       " 243   25     5.7    65.0       1    salad\n",
       " 244   33   157.0    56.0       0   Samosa,\n",
       "    age   height  weight  gender likeness\n",
       " 0   27  170.688    76.0       1    salad\n",
       " 1   41  165.000    70.0       1    salad\n",
       " 2   29  171.000    80.0       1    salad\n",
       " 3   27  173.000   102.0       1    salad\n",
       " 4   29  164.000    67.0       1    salad)"
      ]
     },
     "execution_count": 34,
     "metadata": {},
     "output_type": "execute_result"
    }
   ],
   "source": [
    "df.tail(),df.head()"
   ]
  },
  {
   "cell_type": "code",
   "execution_count": null,
   "id": "a2492991",
   "metadata": {},
   "outputs": [],
   "source": []
  },
  {
   "cell_type": "code",
   "execution_count": null,
   "id": "8f979676",
   "metadata": {},
   "outputs": [],
   "source": []
  },
  {
   "cell_type": "code",
   "execution_count": null,
   "id": "cec24933",
   "metadata": {},
   "outputs": [],
   "source": []
  },
  {
   "cell_type": "code",
   "execution_count": null,
   "id": "54adbf5d",
   "metadata": {},
   "outputs": [],
   "source": []
  }
 ],
 "metadata": {
  "kernelspec": {
   "display_name": "Python 3 (ipykernel)",
   "language": "python",
   "name": "python3"
  },
  "language_info": {
   "codemirror_mode": {
    "name": "ipython",
    "version": 3
   },
   "file_extension": ".py",
   "mimetype": "text/x-python",
   "name": "python",
   "nbconvert_exporter": "python",
   "pygments_lexer": "ipython3",
   "version": "3.9.7"
  }
 },
 "nbformat": 4,
 "nbformat_minor": 5
}
