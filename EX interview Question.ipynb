{
 "cells": [
  {
   "cell_type": "markdown",
   "id": "6a2cfaac",
   "metadata": {},
   "source": [
    "## interview questions"
   ]
  },
  {
   "cell_type": "markdown",
   "id": "696ec521",
   "metadata": {},
   "source": [
    "## check List\n"
   ]
  },
  {
   "cell_type": "code",
   "execution_count": null,
   "id": "18590742",
   "metadata": {},
   "outputs": [],
   "source": [
    "I = [3, 3, 4, 5, 2, 111, 5]\n",
    "print(111 in I)"
   ]
  },
  {
   "cell_type": "markdown",
   "id": "7c950a6c",
   "metadata": {},
   "source": [
    "## find duplicate number"
   ]
  },
  {
   "cell_type": "code",
   "execution_count": null,
   "id": "385bd566",
   "metadata": {},
   "outputs": [],
   "source": [
    "def find_duplicate(elements):\n",
    "    duplicates, seen = set(), set() \n",
    "    for element in elements:\n",
    "        if element in seen:\n",
    "            duplicates.add(element)\n",
    "            seen.add(element)\n",
    "            return list(duplicates)\n",
    "        "
   ]
  },
  {
   "cell_type": "markdown",
   "id": "5ae728d9",
   "metadata": {},
   "source": [
    "\n",
    "## check if two strings are anagram"
   ]
  },
  {
   "cell_type": "code",
   "execution_count": null,
   "id": "5d13c000",
   "metadata": {},
   "outputs": [],
   "source": [
    "def is_anagram(s1, s2):\n",
    "    return set(s1) == set(s2)\n",
    "print(is_anagram(\"elvis\", \"lives\"))"
   ]
  },
  {
   "cell_type": "markdown",
   "id": "6e6a7e52",
   "metadata": {},
   "source": [
    "## Remove all duplicate num from list\n"
   ]
  },
  {
   "cell_type": "code",
   "execution_count": null,
   "id": "34357ee9",
   "metadata": {},
   "outputs": [],
   "source": [
    "lst = list(range(10)) + list(range(10))\n",
    "lst = list(set(lst))\n",
    "print(lst)"
   ]
  },
  {
   "cell_type": "markdown",
   "id": "b2fd6a65",
   "metadata": {},
   "source": [
    "## Find pairs of integers in list\n"
   ]
  },
  {
   "cell_type": "code",
   "execution_count": 1,
   "id": "d07d8561",
   "metadata": {},
   "outputs": [],
   "source": [
    "def find_pairs(l, x):\n",
    "    pairs = []\n",
    "    for (i, el_1) in enumerate(l):\n",
    "        for (j, el_2) in enumerate(l[i+1:]):\n",
    "            if el_1 + el_2 == x:\n",
    "                pairs.append((el_1, el_2))\n",
    "                return pairs"
   ]
  },
  {
   "cell_type": "markdown",
   "id": "6ad967b2",
   "metadata": {},
   "source": [
    "## Use list as stack, array, and queue\n"
   ]
  },
  {
   "cell_type": "code",
   "execution_count": 5,
   "id": "60f4397d",
   "metadata": {},
   "outputs": [
    {
     "name": "stdout",
     "output_type": "stream",
     "text": [
      "[3, 4, 5, 6]\n"
     ]
    }
   ],
   "source": [
    "l = [3, 4]\n",
    "l += [5, 6] \n",
    "print(l)"
   ]
  },
  {
   "cell_type": "code",
   "execution_count": 6,
   "id": "364f6e0d",
   "metadata": {},
   "outputs": [
    {
     "name": "stdout",
     "output_type": "stream",
     "text": [
      "[3, 4, 5, 6]\n"
     ]
    }
   ],
   "source": [
    "l.append(10) \n",
    "l.pop() \n",
    "print(l)"
   ]
  },
  {
   "cell_type": "code",
   "execution_count": 7,
   "id": "bcc91f21",
   "metadata": {},
   "outputs": [
    {
     "name": "stdout",
     "output_type": "stream",
     "text": [
      "[5, 3, 4, 5, 6]\n"
     ]
    }
   ],
   "source": [
    "l.insert(0, 5) \n",
    "print(l)"
   ]
  },
  {
   "cell_type": "code",
   "execution_count": 8,
   "id": "5656fabf",
   "metadata": {},
   "outputs": [
    {
     "name": "stdout",
     "output_type": "stream",
     "text": [
      "[5, 3, 4, 5]\n"
     ]
    }
   ],
   "source": [
    "l.pop() \n",
    "print(l)"
   ]
  },
  {
   "cell_type": "markdown",
   "id": "d497282b",
   "metadata": {},
   "source": [
    "## Get missing number in [1...100]\n"
   ]
  },
  {
   "cell_type": "code",
   "execution_count": 9,
   "id": "cfe7911a",
   "metadata": {},
   "outputs": [
    {
     "name": "stdout",
     "output_type": "stream",
     "text": [
      "{50}\n"
     ]
    }
   ],
   "source": [
    "def get_missing_number(lst):\n",
    "    return set(range(lst[len(lst)-1])[1:]) - set(l)\n",
    "l = list(range(1,100))\n",
    "l.remove(50)\n",
    "print(get_missing_number(l)) "
   ]
  },
  {
   "cell_type": "markdown",
   "id": "1229754f",
   "metadata": {},
   "source": [
    "## Compute the intersection of two lists"
   ]
  },
  {
   "cell_type": "code",
   "execution_count": 13,
   "id": "d50ece14",
   "metadata": {},
   "outputs": [],
   "source": [
    "def intersect(lst1, lst2):\n",
    "    res, lst2_copy = [], lst2[:]\n",
    "    for el in lst1:\n",
    "        if el in lst2_copy:\n",
    "            res.append(el)\n",
    "            lst2_copy.remove(el)\n",
    "    return res\n"
   ]
  },
  {
   "cell_type": "code",
   "execution_count": null,
   "id": "580e7f4b",
   "metadata": {},
   "outputs": [],
   "source": []
  }
 ],
 "metadata": {
  "kernelspec": {
   "display_name": "Python 3 (ipykernel)",
   "language": "python",
   "name": "python3"
  },
  "language_info": {
   "codemirror_mode": {
    "name": "ipython",
    "version": 3
   },
   "file_extension": ".py",
   "mimetype": "text/x-python",
   "name": "python",
   "nbconvert_exporter": "python",
   "pygments_lexer": "ipython3",
   "version": "3.9.12"
  }
 },
 "nbformat": 4,
 "nbformat_minor": 5
}
